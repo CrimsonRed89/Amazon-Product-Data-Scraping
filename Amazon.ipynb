{
 "cells": [
  {
   "cell_type": "code",
   "execution_count": 1,
   "metadata": {},
   "outputs": [
    {
     "name": "stderr",
     "output_type": "stream",
     "text": [
      "C:\\Users\\KIIT\\AppData\\Local\\Temp\\ipykernel_17764\\3013184634.py:17: DeprecationWarning: ANTIALIAS is deprecated and will be removed in Pillow 10 (2023-07-01). Use LANCZOS or Resampling.LANCZOS instead.\n",
      "  amazon_logo = amazon_logo.resize((200, 130), Image.ANTIALIAS)\n"
     ]
    },
    {
     "name": "stdout",
     "output_type": "stream",
     "text": [
      "You entered: smartphone\n"
     ]
    }
   ],
   "source": [
    "import tkinter as tk\n",
    "from tkinter import ttk\n",
    "from PIL import Image, ImageTk\n",
    "\n",
    "def on_submit():\n",
    "    global entered_text\n",
    "    entered_text = text_entry.get()\n",
    "    print(f\"You entered: {entered_text}\")\n",
    "    root.destroy()  \n",
    "\n",
    "root = tk.Tk()\n",
    "root.title(\"Text Entry GUI\")\n",
    "root.geometry(\"600x400\")\n",
    "root.configure(bg=\"#f0f0f0\")\n",
    "\n",
    "amazon_logo = Image.open(\"amazon_logo.png\")\n",
    "amazon_logo = amazon_logo.resize((200, 130), Image.ANTIALIAS)  \n",
    "amazon_logo = ImageTk.PhotoImage(amazon_logo)\n",
    "\n",
    "\n",
    "logo_label = ttk.Label(root, image=amazon_logo, background=\"#f0f0f0\")\n",
    "logo_label.pack(pady=20)\n",
    "\n",
    "style = ttk.Style()\n",
    "style.configure(\"TLabel\", font=(\"Helvetica\", 14), background=\"#f0f0f0\")\n",
    "style.configure(\"TButton\", font=(\"Helvetica\", 12), background=\"#007acc\", foreground=\"#000000\")  \n",
    "style.configure(\"TEntry\", font=(\"Helvetica\", 14))\n",
    "\n",
    "prompt_label = ttk.Label(root, text=\"What product do you want to search on amazon\", style=\"TLabel\")\n",
    "prompt_label.pack(pady=20)\n",
    "\n",
    "text_entry = ttk.Entry(root, width=50, style=\"TEntry\")\n",
    "text_entry.pack(pady=10)\n",
    "\n",
    "submit_button = ttk.Button(root, text=\"Submit\", command=on_submit, style=\"TButton\")\n",
    "submit_button.pack(pady=20)\n",
    "\n",
    "result_label = ttk.Label(root, text=\"\", style=\"TLabel\")\n",
    "result_label.pack(pady=20)\n",
    "\n",
    "\n",
    "root.mainloop()\n"
   ]
  },
  {
   "cell_type": "code",
   "execution_count": 2,
   "metadata": {},
   "outputs": [
    {
     "name": "stdout",
     "output_type": "stream",
     "text": [
      "Scraping page 1\n",
      "Scraping page 2\n",
      "NO MORE PAGES TO LOAD\n",
      "Scraping page 3\n",
      "Scraping page 4\n",
      "Scraping page 5\n"
     ]
    }
   ],
   "source": [
    "from selenium import webdriver\n",
    "from selenium.webdriver.chrome.service import Service\n",
    "from selenium.webdriver.common.keys import Keys\n",
    "from selenium.webdriver.support.ui import WebDriverWait\n",
    "from selenium.webdriver.support import expected_conditions as EC\n",
    "from selenium.webdriver.common.by import By\n",
    "import time\n",
    "import pandas as pd\n",
    "\n",
    "url = \"https://www.amazon.in\"\n",
    "path = \"C:/Coding/python/Automation/chromedriver-win64/chromedriver.exe\"\n",
    "\n",
    "service = Service(executable_path=path)\n",
    "driver = webdriver.Chrome(service=service)\n",
    "\n",
    "driver.get(url)\n",
    "\n",
    "driver.maximize_window()\n",
    "\n",
    "text = entered_text\n",
    "\n",
    "search_box = driver.find_element(by=By.XPATH, value='//*[@id=\"twotabsearchtextbox\"]')\n",
    "search_box.click()\n",
    "search_box.send_keys(text)\n",
    "search_box.send_keys(Keys.RETURN)  \n",
    "\n",
    "time.sleep(2)\n",
    "\n",
    "products = []\n",
    "prices = []\n",
    "\n",
    "for i in range(5):\n",
    "    try:\n",
    "        print('Scraping page', i+1)\n",
    "        product = driver.find_elements(By.XPATH, \"//span[@class='a-size-medium a-color-base a-text-normal']\")\n",
    "        price_elements = driver.find_elements(by=By.XPATH, value=\"//span[@class='a-price-whole']\")\n",
    "\n",
    "        for p in product:\n",
    "            products.append(p.text)\n",
    "        for price in price_elements:\n",
    "            prices.append(price.text)\n",
    "        next_button = driver.find_element(By.XPATH, \"//a[text()='Next']\")\n",
    "        next_button.click()\n",
    "        time.sleep(2)\n",
    "    except:\n",
    "        print(\"NO MORE PAGES TO LOAD\")\n",
    "    \n",
    "\n",
    "driver.quit()\n"
   ]
  },
  {
   "cell_type": "code",
   "execution_count": 3,
   "metadata": {},
   "outputs": [
    {
     "data": {
      "text/plain": [
       "63"
      ]
     },
     "execution_count": 3,
     "metadata": {},
     "output_type": "execute_result"
    }
   ],
   "source": [
    "len(products)"
   ]
  },
  {
   "cell_type": "code",
   "execution_count": 4,
   "metadata": {},
   "outputs": [
    {
     "data": {
      "text/plain": [
       "94"
      ]
     },
     "execution_count": 4,
     "metadata": {},
     "output_type": "execute_result"
    }
   ],
   "source": [
    "len(prices)"
   ]
  },
  {
   "cell_type": "code",
   "execution_count": 5,
   "metadata": {},
   "outputs": [
    {
     "name": "stdout",
     "output_type": "stream",
     "text": [
      "Data saved to smartphone.xlsx\n"
     ]
    }
   ],
   "source": [
    "max_length = max(len(products), len(prices))\n",
    "\n",
    "products.extend([None] * (max_length - len(products)))\n",
    "prices.extend([None] * (max_length - len(prices)))\n",
    "\n",
    "data = {\n",
    "    'Product Name': products,\n",
    "    'Price': prices\n",
    "}\n",
    "\n",
    "df = pd.DataFrame(data)\n",
    "\n",
    "output_file = f\"{text}.xlsx\"\n",
    "df.to_excel(output_file, index=False)\n",
    "\n",
    "print(f\"Data saved to {output_file}\")"
   ]
  },
  {
   "cell_type": "code",
   "execution_count": 6,
   "metadata": {},
   "outputs": [
    {
     "data": {
      "text/html": [
       "<div>\n",
       "<style scoped>\n",
       "    .dataframe tbody tr th:only-of-type {\n",
       "        vertical-align: middle;\n",
       "    }\n",
       "\n",
       "    .dataframe tbody tr th {\n",
       "        vertical-align: top;\n",
       "    }\n",
       "\n",
       "    .dataframe thead th {\n",
       "        text-align: right;\n",
       "    }\n",
       "</style>\n",
       "<table border=\"1\" class=\"dataframe\">\n",
       "  <thead>\n",
       "    <tr style=\"text-align: right;\">\n",
       "      <th></th>\n",
       "      <th>Product Name</th>\n",
       "      <th>Price</th>\n",
       "    </tr>\n",
       "  </thead>\n",
       "  <tbody>\n",
       "    <tr>\n",
       "      <th>0</th>\n",
       "      <td>Redmi Note 13 5G (Arctic White, 6GB RAM, 128GB...</td>\n",
       "      <td>12,499</td>\n",
       "    </tr>\n",
       "    <tr>\n",
       "      <th>1</th>\n",
       "      <td>Redmi Note 13 Pro+ (Fusion White, 8GB RAM, 256...</td>\n",
       "      <td>13,999</td>\n",
       "    </tr>\n",
       "    <tr>\n",
       "      <th>2</th>\n",
       "      <td>Redmi 13C (Stardust Black, 6GB RAM, 128GB Stor...</td>\n",
       "      <td>16,999</td>\n",
       "    </tr>\n",
       "    <tr>\n",
       "      <th>3</th>\n",
       "      <td>POCO C65 Matte Black 4GB RAM 128GB ROM</td>\n",
       "      <td>30,999</td>\n",
       "    </tr>\n",
       "    <tr>\n",
       "      <th>4</th>\n",
       "      <td>Redmi 13C (Starfrost White, 4GB RAM, 128GB Sto...</td>\n",
       "      <td>8,499</td>\n",
       "    </tr>\n",
       "  </tbody>\n",
       "</table>\n",
       "</div>"
      ],
      "text/plain": [
       "                                        Product Name   Price\n",
       "0  Redmi Note 13 5G (Arctic White, 6GB RAM, 128GB...  12,499\n",
       "1  Redmi Note 13 Pro+ (Fusion White, 8GB RAM, 256...  13,999\n",
       "2  Redmi 13C (Stardust Black, 6GB RAM, 128GB Stor...  16,999\n",
       "3             POCO C65 Matte Black 4GB RAM 128GB ROM  30,999\n",
       "4  Redmi 13C (Starfrost White, 4GB RAM, 128GB Sto...   8,499"
      ]
     },
     "execution_count": 6,
     "metadata": {},
     "output_type": "execute_result"
    }
   ],
   "source": [
    "file = pd.read_excel(output_file)\n",
    "file.head()"
   ]
  }
 ],
 "metadata": {
  "kernelspec": {
   "display_name": "Python 3",
   "language": "python",
   "name": "python3"
  },
  "language_info": {
   "codemirror_mode": {
    "name": "ipython",
    "version": 3
   },
   "file_extension": ".py",
   "mimetype": "text/x-python",
   "name": "python",
   "nbconvert_exporter": "python",
   "pygments_lexer": "ipython3",
   "version": "3.10.6"
  }
 },
 "nbformat": 4,
 "nbformat_minor": 2
}
